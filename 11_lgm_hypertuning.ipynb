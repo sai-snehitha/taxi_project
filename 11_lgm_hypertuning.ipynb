{
 "cells": [
  {
   "cell_type": "code",
   "execution_count": 1,
   "metadata": {},
   "outputs": [],
   "source": [
    "%load_ext autoreload\n",
    "%autoreload 2"
   ]
  },
  {
   "cell_type": "code",
   "execution_count": 2,
   "metadata": {},
   "outputs": [],
   "source": [
    "import sys\n",
    "import os\n",
    "\n",
    "# Add the parent directory to the Python path\n",
    "sys.path.append(os.path.abspath(os.path.join(os.getcwd(), \"..\")))"
   ]
  },
  {
   "cell_type": "code",
   "execution_count": 3,
   "metadata": {},
   "outputs": [],
   "source": [
    "import pandas as pd\n",
    "from taxi_project.config import TRANSFORMED_DATA_DIR\n",
    "\n",
    "df = pd.read_parquet(TRANSFORMED_DATA_DIR / \"tabular_data.parquet\")"
   ]
  },
  {
   "cell_type": "code",
   "execution_count": 4,
   "metadata": {},
   "outputs": [
    {
     "name": "stdout",
     "output_type": "stream",
     "text": [
      "<class 'pandas.core.series.Series'>\n",
      "RangeIndex: 87620 entries, 0 to 87619\n",
      "Series name: pickup_hour\n",
      "Non-Null Count  Dtype         \n",
      "--------------  -----         \n",
      "87620 non-null  datetime64[ns]\n",
      "dtypes: datetime64[ns](1)\n",
      "memory usage: 684.7 KB\n"
     ]
    }
   ],
   "source": [
    "df[\"pickup_hour\"].info()"
   ]
  },
  {
   "cell_type": "code",
   "execution_count": 5,
   "metadata": {},
   "outputs": [
    {
     "name": "stdout",
     "output_type": "stream",
     "text": [
      "(55900, 674)\n",
      "(55900,)\n",
      "(31720, 674)\n",
      "(31720,)\n"
     ]
    }
   ],
   "source": [
    "from datetime import datetime\n",
    "\n",
    "from taxi_project.data_utils import split_time_series_data\n",
    "\n",
    "X_train, y_train, X_test, y_test = split_time_series_data(\n",
    "    df,\n",
    "    cutoff_date=datetime(2023, 9, 1, 0, 0, 0),\n",
    "    target_column=\"target\"\n",
    ")\n",
    "\n",
    "print(X_train.shape)\n",
    "print(y_train.shape)\n",
    "print(X_test.shape)\n",
    "print(y_test.shape)"
   ]
  },
  {
   "cell_type": "code",
   "execution_count": 6,
   "metadata": {},
   "outputs": [],
   "source": [
    "def average_rides_last_4_weeks(X: pd.DataFrame) -> pd.DataFrame:\n",
    "    last_4_weeks_columns = [\n",
    "            f\"rides_t-{7*24}\",  # 1 week ago\n",
    "            f\"rides_t-{14*24}\", # 2 weeks ago\n",
    "            f\"rides_t-{21*24}\", # 3 weeks ago\n",
    "            f\"rides_t-{28*24}\"  # 4 weeks ago\n",
    "        ]\n",
    "\n",
    "        # Ensure the required columns exist in the test DataFrame\n",
    "    for col in last_4_weeks_columns:\n",
    "        if col not in X.columns:\n",
    "            raise ValueError(f\"Missing required column: {col}\")\n",
    "\n",
    "    # Calculate the average of the last 4 weeks\n",
    "    X[\"average_rides_last_4_weeks\"] = X[last_4_weeks_columns].mean(axis=1)\n",
    "\n",
    "    return X\n",
    "\n",
    "from sklearn.preprocessing import FunctionTransformer\n",
    "\n",
    "add_feature_average_rides_last_4_weeks = FunctionTransformer(\n",
    "    average_rides_last_4_weeks, validate=False\n",
    ")"
   ]
  },
  {
   "cell_type": "code",
   "execution_count": 7,
   "metadata": {},
   "outputs": [],
   "source": [
    "from sklearn.base import BaseEstimator, TransformerMixin\n",
    "\n",
    "class TemporalFeatureEngineer(BaseEstimator, TransformerMixin):\n",
    "\n",
    "    def fit(self, X, y=None):\n",
    "        return self\n",
    "\n",
    "    def transform(self, X, y=None):\n",
    "        X_ = X.copy()\n",
    "        X_[\"hour\"] = X_[\"pickup_hour\"].dt.hour\n",
    "        X_[\"day_of_week\"] = X_[\"pickup_hour\"].dt.dayofweek\n",
    "\n",
    "        return X_.drop(columns=[\"pickup_hour\", \"pickup_location_id\"])\n",
    "\n",
    "add_temporal_features = TemporalFeatureEngineer()\n"
   ]
  },
  {
   "cell_type": "code",
   "execution_count": 8,
   "metadata": {},
   "outputs": [],
   "source": [
    "import lightgbm as lgb\n",
    "\n",
    "from sklearn.pipeline import make_pipeline\n",
    "\n",
    "pipeline = make_pipeline(\n",
    "    add_feature_average_rides_last_4_weeks,\n",
    "    add_temporal_features,\n",
    "    lgb.LGBMRegressor()\n",
    ")"
   ]
  },
  {
   "cell_type": "code",
   "execution_count": 9,
   "metadata": {},
   "outputs": [
    {
     "name": "stdout",
     "output_type": "stream",
     "text": [
      "Columns in X_train: Index(['rides_t-672', 'rides_t-671', 'rides_t-670', 'rides_t-669',\n",
      "       'rides_t-668', 'rides_t-667', 'rides_t-666', 'rides_t-665',\n",
      "       'rides_t-664', 'rides_t-663',\n",
      "       ...\n",
      "       'rides_t-8', 'rides_t-7', 'rides_t-6', 'rides_t-5', 'rides_t-4',\n",
      "       'rides_t-3', 'rides_t-2', 'rides_t-1', 'pickup_hour',\n",
      "       'pickup_location_id'],\n",
      "      dtype='object', length=674)\n"
     ]
    }
   ],
   "source": [
    "print(\"Columns in X_train:\", X_train.columns)\n"
   ]
  },
  {
   "cell_type": "code",
   "execution_count": 10,
   "metadata": {},
   "outputs": [
    {
     "name": "stderr",
     "output_type": "stream",
     "text": [
      "/Users/snehitha/Library/Caches/pypoetry/virtualenvs/taxi-project-ssPYKSXO-py3.13/lib/python3.13/site-packages/sklearn/model_selection/_search.py:320: UserWarning: The total space of parameters 4 is smaller than n_iter=5. Running 4 iterations. For exhaustive searches, use GridSearchCV.\n",
      "  warnings.warn(\n"
     ]
    },
    {
     "name": "stdout",
     "output_type": "stream",
     "text": [
      "Fitting 3 folds for each of 4 candidates, totalling 12 fits\n",
      "[LightGBM] [Info] Auto-choosing row-wise multi-threading, the overhead of testing was 0.044017 seconds.\n",
      "You can set `force_row_wise=true` to remove the overhead.\n",
      "And if memory is not enough, you can set `force_col_wise=true`.\n",
      "[LightGBM] [Info] Total Bins 156723\n",
      "[LightGBM] [Info] Number of data points in the train set: 37266, number of used features: 674\n",
      "[LightGBM] [Info] Start training from score 13.482799\n",
      "[CV] END ........................lgbmregressor__num_leaves=2; total time=   1.5s\n",
      "[LightGBM] [Info] Auto-choosing row-wise multi-threading, the overhead of testing was 0.053783 seconds.\n",
      "You can set `force_row_wise=true` to remove the overhead.\n",
      "And if memory is not enough, you can set `force_col_wise=true`.\n",
      "[LightGBM] [Info] Total Bins 153420\n",
      "[LightGBM] [Info] Number of data points in the train set: 37267, number of used features: 674\n",
      "[LightGBM] [Info] Start training from score 8.169855\n",
      "[CV] END ........................lgbmregressor__num_leaves=2; total time=   1.2s\n",
      "[LightGBM] [Info] Auto-choosing row-wise multi-threading, the overhead of testing was 0.049872 seconds.\n",
      "You can set `force_row_wise=true` to remove the overhead.\n",
      "And if memory is not enough, you can set `force_col_wise=true`.\n",
      "[LightGBM] [Info] Total Bins 155219\n",
      "[LightGBM] [Info] Number of data points in the train set: 37267, number of used features: 674\n",
      "[LightGBM] [Info] Start training from score 11.678268\n",
      "[CV] END ........................lgbmregressor__num_leaves=2; total time=   1.2s\n",
      "[LightGBM] [Info] Auto-choosing row-wise multi-threading, the overhead of testing was 0.042724 seconds.\n",
      "You can set `force_row_wise=true` to remove the overhead.\n",
      "And if memory is not enough, you can set `force_col_wise=true`.\n",
      "[LightGBM] [Info] Total Bins 156723\n",
      "[LightGBM] [Info] Number of data points in the train set: 37266, number of used features: 674\n",
      "[LightGBM] [Info] Start training from score 13.482799\n",
      "[CV] END .......................lgbmregressor__num_leaves=50; total time=   3.5s\n",
      "[LightGBM] [Info] Auto-choosing row-wise multi-threading, the overhead of testing was 0.078791 seconds.\n",
      "You can set `force_row_wise=true` to remove the overhead.\n",
      "And if memory is not enough, you can set `force_col_wise=true`.\n",
      "[LightGBM] [Info] Total Bins 153420\n",
      "[LightGBM] [Info] Number of data points in the train set: 37267, number of used features: 674\n",
      "[LightGBM] [Info] Start training from score 8.169855\n",
      "[CV] END .......................lgbmregressor__num_leaves=50; total time=   3.4s\n",
      "[LightGBM] [Info] Auto-choosing row-wise multi-threading, the overhead of testing was 0.047479 seconds.\n",
      "You can set `force_row_wise=true` to remove the overhead.\n",
      "And if memory is not enough, you can set `force_col_wise=true`.\n",
      "[LightGBM] [Info] Total Bins 155219\n",
      "[LightGBM] [Info] Number of data points in the train set: 37267, number of used features: 674\n",
      "[LightGBM] [Info] Start training from score 11.678268\n",
      "[CV] END .......................lgbmregressor__num_leaves=50; total time=   3.3s\n",
      "[LightGBM] [Info] Auto-choosing row-wise multi-threading, the overhead of testing was 0.044721 seconds.\n",
      "You can set `force_row_wise=true` to remove the overhead.\n",
      "And if memory is not enough, you can set `force_col_wise=true`.\n",
      "[LightGBM] [Info] Total Bins 156723\n",
      "[LightGBM] [Info] Number of data points in the train set: 37266, number of used features: 674\n",
      "[LightGBM] [Info] Start training from score 13.482799\n",
      "[CV] END .......................lgbmregressor__num_leaves=70; total time=   4.4s\n",
      "[LightGBM] [Info] Auto-choosing row-wise multi-threading, the overhead of testing was 0.056321 seconds.\n",
      "You can set `force_row_wise=true` to remove the overhead.\n",
      "And if memory is not enough, you can set `force_col_wise=true`.\n",
      "[LightGBM] [Info] Total Bins 153420\n",
      "[LightGBM] [Info] Number of data points in the train set: 37267, number of used features: 674\n",
      "[LightGBM] [Info] Start training from score 8.169855\n",
      "[CV] END .......................lgbmregressor__num_leaves=70; total time=   3.9s\n",
      "[LightGBM] [Info] Auto-choosing row-wise multi-threading, the overhead of testing was 0.048713 seconds.\n",
      "You can set `force_row_wise=true` to remove the overhead.\n",
      "And if memory is not enough, you can set `force_col_wise=true`.\n",
      "[LightGBM] [Info] Total Bins 155219\n",
      "[LightGBM] [Info] Number of data points in the train set: 37267, number of used features: 674\n",
      "[LightGBM] [Info] Start training from score 11.678268\n",
      "[CV] END .......................lgbmregressor__num_leaves=70; total time=   4.0s\n",
      "[LightGBM] [Info] Auto-choosing row-wise multi-threading, the overhead of testing was 0.043763 seconds.\n",
      "You can set `force_row_wise=true` to remove the overhead.\n",
      "And if memory is not enough, you can set `force_col_wise=true`.\n",
      "[LightGBM] [Info] Total Bins 156723\n",
      "[LightGBM] [Info] Number of data points in the train set: 37266, number of used features: 674\n",
      "[LightGBM] [Info] Start training from score 13.482799\n",
      "[CV] END ......................lgbmregressor__num_leaves=256; total time=  10.5s\n",
      "[LightGBM] [Info] Auto-choosing row-wise multi-threading, the overhead of testing was 0.055561 seconds.\n",
      "You can set `force_row_wise=true` to remove the overhead.\n",
      "And if memory is not enough, you can set `force_col_wise=true`.\n",
      "[LightGBM] [Info] Total Bins 153420\n",
      "[LightGBM] [Info] Number of data points in the train set: 37267, number of used features: 674\n",
      "[LightGBM] [Info] Start training from score 8.169855\n",
      "[CV] END ......................lgbmregressor__num_leaves=256; total time=  10.2s\n",
      "[LightGBM] [Info] Auto-choosing row-wise multi-threading, the overhead of testing was 0.047205 seconds.\n",
      "You can set `force_row_wise=true` to remove the overhead.\n",
      "And if memory is not enough, you can set `force_col_wise=true`.\n",
      "[LightGBM] [Info] Total Bins 155219\n",
      "[LightGBM] [Info] Number of data points in the train set: 37267, number of used features: 674\n",
      "[LightGBM] [Info] Start training from score 11.678268\n",
      "[CV] END ......................lgbmregressor__num_leaves=256; total time=  11.3s\n",
      "[LightGBM] [Info] Auto-choosing row-wise multi-threading, the overhead of testing was 0.070991 seconds.\n",
      "You can set `force_row_wise=true` to remove the overhead.\n",
      "And if memory is not enough, you can set `force_col_wise=true`.\n",
      "[LightGBM] [Info] Total Bins 159913\n",
      "[LightGBM] [Info] Number of data points in the train set: 55900, number of used features: 674\n",
      "[LightGBM] [Info] Start training from score 11.110286\n",
      "Best Parameters: {'lgbmregressor__num_leaves': 50}\n",
      "Best Score (Negative MAE): -2.5693649275573294\n",
      "Test Set MAE: 3.223177653063996\n"
     ]
    }
   ],
   "source": [
    "import numpy as np\n",
    "from sklearn.model_selection import RandomizedSearchCV\n",
    "from sklearn.metrics import mean_absolute_error\n",
    "\n",
    "# Define the parameter grid for LGBMRegressor\n",
    "param_distributions = {\n",
    "    \"lgbmregressor__num_leaves\": [2, 50, 70, 256],\n",
    "    # \"lgbmregressor__max_depth\": [-1, 10, 20, 30],\n",
    "    # \"lgbmregressor__learning_rate\": [0.01, 0.05, 0.1, 0.2],\n",
    "    # \"lgbmregressor__n_estimators\": [100, 200, 500, 1000],\n",
    "    # \"lgbmregressor__min_child_samples\": [10, 20, 30, 50],\n",
    "    # \"lgbmregressor__subsample\": [0.6, 0.8, 1.0],\n",
    "    # \"lgbmregressor__colsample_bytree\": [0.6, 0.8, 1.0],\n",
    "    # \"lgbmregressor__reg_alpha\": [0, 0.1, 0.5, 1.0],\n",
    "    # \"lgbmregressor__reg_lambda\": [0, 0.1, 0.5, 1.0],\n",
    "    # \"lgbmregressor__feature_fraction\": [0.6, 0.7, 0.8, 0.9, 1.0], \n",
    "    # \"lgbmregressor__bagging_fraction\": [0.6, 0.7, 0.8, 0.9, 1.0], \n",
    "    # \"lgbmregressor__bagging_freq\": [1, 5, 10],\n",
    "}\n",
    "\n",
    "# Initialize the RandomizedSearchCV\n",
    "random_search = RandomizedSearchCV(\n",
    "    estimator=pipeline,\n",
    "    param_distributions=param_distributions,\n",
    "    n_iter=5,  # Number of parameter settings sampled\n",
    "    scoring=\"neg_mean_absolute_error\",  # Use MAE as the scoring metric\n",
    "    cv=3,  # 3-fold cross-validation\n",
    "    verbose=2,\n",
    "    random_state=42,\n",
    ")\n",
    "\n",
    "# Fit the RandomizedSearchCV on the training data\n",
    "random_search.fit(X_train, y_train)\n",
    "\n",
    "# Get the best parameters and the best score\n",
    "print(\"Best Parameters:\", random_search.best_params_)\n",
    "print(\"Best Score (Negative MAE):\", random_search.best_score_)\n",
    "\n",
    "# Evaluate the best model on the test set\n",
    "best_model = random_search.best_estimator_\n",
    "y_pred = best_model.predict(X_test)\n",
    "mae = mean_absolute_error(y_test, y_pred)\n",
    "print(\"Test Set MAE:\", mae)"
   ]
  }
 ],
 "metadata": {
  "kernelspec": {
   "display_name": "Python (taxi_project 3.10)",
   "language": "python",
   "name": "taxi_project"
  },
  "language_info": {
   "codemirror_mode": {
    "name": "ipython",
    "version": 3
   },
   "file_extension": ".py",
   "mimetype": "text/x-python",
   "name": "python",
   "nbconvert_exporter": "python",
   "pygments_lexer": "ipython3",
   "version": "3.13.2"
  }
 },
 "nbformat": 4,
 "nbformat_minor": 2
}
